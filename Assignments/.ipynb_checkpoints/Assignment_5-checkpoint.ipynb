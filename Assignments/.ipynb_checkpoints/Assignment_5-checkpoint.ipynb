{
 "cells": [
  {
   "cell_type": "code",
   "execution_count": 22,
   "metadata": {},
   "outputs": [],
   "source": [
    "import requests\n",
    "import spacy\n",
    "from bs4 import BeautifulSoup\n",
    "from collections import Counter"
   ]
  },
  {
   "cell_type": "code",
   "execution_count": 15,
   "metadata": {},
   "outputs": [],
   "source": [
    "\n",
    "file_url = \"https://www.gutenberg.org/files/1661/1661-h/1661-h.htm\"\n",
    "\n",
    "r = requests.get(file_url, stream = True) \n",
    "\n",
    "with open(\"python.txt\",\"wb\") as tx: \n",
    "    for chunk in r.iter_content(chunk_size=1024):  \n",
    "        if chunk: \n",
    "            tx.write(chunk)\n",
    "            \n",
    "with open(\"python.txt\", \"r\") as f:\n",
    "    contents = f.read()\n",
    "    soup = BeautifulSoup(contents, 'lxml')\n",
    "    root = soup.html            \n",
    "    \n",
    "for text in root.findAll('p'):\n",
    "    b = text.text\n",
    "    f = open(\"sherlock.txt\", \"a\")\n",
    "    print (b, file=f)\n",
    "    f.close()\n"
   ]
  },
  {
   "cell_type": "code",
   "execution_count": 16,
   "metadata": {},
   "outputs": [],
   "source": [
    "nlp = spacy.load(\"en_core_web_lg\")\n",
    "file = open('sherlock.txt',\"r\",encoding='utf8')\n",
    "sherlock_file = file.read()\n",
    "doc = nlp(sherlock_file)"
   ]
  },
  {
   "cell_type": "code",
   "execution_count": 17,
   "metadata": {},
   "outputs": [
    {
     "name": "stdout",
     "output_type": "stream",
     "text": [
      "Number of Tokens:  136294\n"
     ]
    }
   ],
   "source": [
    "token_list = []\n",
    "for token in doc:\n",
    "    token_list.append(token.text)\n",
    "print(\"Number of Tokens: \", len(token_list))\n"
   ]
  },
  {
   "cell_type": "code",
   "execution_count": 20,
   "metadata": {},
   "outputs": [
    {
     "name": "stdout",
     "output_type": "stream",
     "text": [
      "Number of Verbs: 14600\n"
     ]
    }
   ],
   "source": [
    "verbs_list = []\n",
    "for verb in doc:\n",
    "    if verb.pos_ == \"VERB\":\n",
    "        verbs_list.append(verb.text)\n",
    "print(\"Number of Verbs:\", len(verbs_list))"
   ]
  },
  {
   "cell_type": "code",
   "execution_count": 23,
   "metadata": {},
   "outputs": [
    {
     "name": "stdout",
     "output_type": "stream",
     "text": [
      "Holmes\n"
     ]
    }
   ],
   "source": [
    "entity_list = []\n",
    "for entity in doc.ents:\n",
    "    entity_list.append(entity.text)\n",
    "word_freq = Counter(entity_list)\n",
    "common_words = word_freq.most_common(1)\n",
    "print(\"Most Frequent named Entity:\"common_words[0][0])"
   ]
  },
  {
   "cell_type": "code",
   "execution_count": 24,
   "metadata": {},
   "outputs": [
    {
     "name": "stdout",
     "output_type": "stream",
     "text": [
      "Number of Sentences: 7190\n"
     ]
    }
   ],
   "source": [
    "sentence_list = []\n",
    "for sent in doc.sents:\n",
    "    sentence_list.append(sent.text)\n",
    "print(\"Number of Sentences:\",len(sentence_list))"
   ]
  },
  {
   "cell_type": "code",
   "execution_count": null,
   "metadata": {},
   "outputs": [],
   "source": []
  }
 ],
 "metadata": {
  "kernelspec": {
   "display_name": "Python 3",
   "language": "python",
   "name": "python3"
  },
  "language_info": {
   "codemirror_mode": {
    "name": "ipython",
    "version": 3
   },
   "file_extension": ".py",
   "mimetype": "text/x-python",
   "name": "python",
   "nbconvert_exporter": "python",
   "pygments_lexer": "ipython3",
   "version": "3.7.3"
  }
 },
 "nbformat": 4,
 "nbformat_minor": 2
}

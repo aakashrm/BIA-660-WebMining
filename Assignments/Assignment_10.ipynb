{
 "cells": [
  {
   "cell_type": "code",
   "execution_count": 15,
   "metadata": {},
   "outputs": [],
   "source": [
    "#importing required packages and modules\n",
    "from surprise import SVD \n",
    "from surprise import NMF \n",
    "from surprise import Dataset\n",
    "from surprise.model_selection import cross_validate"
   ]
  },
  {
   "cell_type": "code",
   "execution_count": 16,
   "metadata": {},
   "outputs": [],
   "source": [
    "# Loading the movielens-100k dataset\n",
    "data = Dataset.load_builtin('ml-100k')"
   ]
  },
  {
   "cell_type": "code",
   "execution_count": 17,
   "metadata": {},
   "outputs": [],
   "source": [
    "#SVD algorithm\n",
    "algo = SVD()"
   ]
  },
  {
   "cell_type": "code",
   "execution_count": 18,
   "metadata": {},
   "outputs": [
    {
     "name": "stdout",
     "output_type": "stream",
     "text": [
      "Evaluating RMSE, MAE of algorithm SVD on 5 split(s).\n",
      "\n",
      "                  Fold 1  Fold 2  Fold 3  Fold 4  Fold 5  Mean    Std     \n",
      "RMSE (testset)    0.9321  0.9341  0.9337  0.9396  0.9435  0.9366  0.0043  \n",
      "MAE (testset)     0.7321  0.7379  0.7373  0.7408  0.7449  0.7386  0.0042  \n",
      "Fit time          5.24    5.62    5.53    5.34    5.26    5.40    0.15    \n",
      "Test time         0.14    0.31    0.20    0.15    0.20    0.20    0.06    \n"
     ]
    },
    {
     "data": {
      "text/plain": [
       "{'test_rmse': array([0.93208771, 0.93413133, 0.93369475, 0.93960957, 0.94348115]),\n",
       " 'test_mae': array([0.73209787, 0.73788884, 0.73734725, 0.74076958, 0.74487759]),\n",
       " 'fit_time': (5.240023851394653,\n",
       "  5.617916107177734,\n",
       "  5.526846885681152,\n",
       "  5.33748984336853,\n",
       "  5.257901191711426),\n",
       " 'test_time': (0.14380717277526855,\n",
       "  0.30554986000061035,\n",
       "  0.20127201080322266,\n",
       "  0.1452479362487793,\n",
       "  0.20095419883728027)}"
      ]
     },
     "execution_count": 18,
     "metadata": {},
     "output_type": "execute_result"
    }
   ],
   "source": [
    "# Running 5-fold cross-validation and print results\n",
    "cross_validate(algo, data, measures=['RMSE', 'MAE'], cv=5, verbose=True)"
   ]
  },
  {
   "cell_type": "code",
   "execution_count": 21,
   "metadata": {},
   "outputs": [],
   "source": [
    "#NMF algorithm\n",
    "algo2= NMF()"
   ]
  },
  {
   "cell_type": "code",
   "execution_count": 22,
   "metadata": {},
   "outputs": [
    {
     "name": "stdout",
     "output_type": "stream",
     "text": [
      "Evaluating RMSE, MAE of algorithm NMF on 10 split(s).\n",
      "\n",
      "                  Fold 1  Fold 2  Fold 3  Fold 4  Fold 5  Fold 6  Fold 7  Fold 8  Fold 9  Fold 10 Mean    Std     \n",
      "RMSE (testset)    0.9682  0.9530  0.9576  0.9664  0.9488  0.9527  0.9669  0.9496  0.9520  0.9545  0.9570  0.0071  \n",
      "MAE (testset)     0.7627  0.7477  0.7548  0.7593  0.7439  0.7494  0.7580  0.7467  0.7497  0.7509  0.7523  0.0058  \n",
      "Fit time          6.07    6.48    6.40    6.10    6.06    6.17    6.06    6.15    6.31    6.49    6.23    0.17    \n",
      "Test time         0.06    0.12    0.06    0.06    0.11    0.06    0.11    0.06    0.06    0.16    0.09    0.04    \n"
     ]
    },
    {
     "data": {
      "text/plain": [
       "{'test_rmse': array([0.96815845, 0.95301575, 0.95756102, 0.96643101, 0.94875387,\n",
       "        0.9527108 , 0.96688189, 0.94959325, 0.95204013, 0.95449687]),\n",
       " 'test_mae': array([0.76267303, 0.74768766, 0.75480736, 0.75933195, 0.74387245,\n",
       "        0.74943784, 0.75798028, 0.74665831, 0.74972163, 0.75091289]),\n",
       " 'fit_time': (6.070042133331299,\n",
       "  6.4836132526397705,\n",
       "  6.397114992141724,\n",
       "  6.102265119552612,\n",
       "  6.059984922409058,\n",
       "  6.167684078216553,\n",
       "  6.059761047363281,\n",
       "  6.148950099945068,\n",
       "  6.307218313217163,\n",
       "  6.4885430335998535),\n",
       " 'test_time': (0.05567479133605957,\n",
       "  0.11692190170288086,\n",
       "  0.05563998222351074,\n",
       "  0.056883811950683594,\n",
       "  0.1147909164428711,\n",
       "  0.05762600898742676,\n",
       "  0.11314201354980469,\n",
       "  0.06043696403503418,\n",
       "  0.057874202728271484,\n",
       "  0.16368317604064941)}"
      ]
     },
     "execution_count": 22,
     "metadata": {},
     "output_type": "execute_result"
    }
   ],
   "source": [
    "# Running 10-fold cross-validation and print results\n",
    "cross_validate(algo2, data, measures=['RMSE', 'MAE'], cv=10, verbose=True)"
   ]
  },
  {
   "cell_type": "code",
   "execution_count": null,
   "metadata": {},
   "outputs": [],
   "source": []
  }
 ],
 "metadata": {
  "kernelspec": {
   "display_name": "Python 3",
   "language": "python",
   "name": "python3"
  },
  "language_info": {
   "codemirror_mode": {
    "name": "ipython",
    "version": 3
   },
   "file_extension": ".py",
   "mimetype": "text/x-python",
   "name": "python",
   "nbconvert_exporter": "python",
   "pygments_lexer": "ipython3",
   "version": "3.7.3"
  }
 },
 "nbformat": 4,
 "nbformat_minor": 2
}

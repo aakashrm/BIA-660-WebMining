{
 "cells": [
  {
   "cell_type": "code",
   "execution_count": 0,
   "metadata": {
    "colab": {},
    "colab_type": "code",
    "id": "cVi9RI3OV5nw"
   },
   "outputs": [],
   "source": [
    "import logging\n",
    "import gensim\n",
    "\n",
    "logging.basicConfig(format='%(asctime)s : %(levelname)s : %(message)s', level=logging.INFO)\n",
    "\n",
    "# load id->word mapping (the dictionary), one of the results of step 2 above\n",
    "#the following code line assigns each unique word value in the corpus an id\n",
    "id2word = gensim.corpora.Dictionary.load_from_text('Result_wordids.txt.bz2')\n",
    "# load corpus iterator\n",
    "\n",
    "#the tfidf vector contains the int id of the word with a corresponding weighted frequency value\n",
    "mm = gensim.corpora.MmCorpus('Result_tfidf.mm')\n",
    "# mm = gensim.corpora.MmCorpus('wiki_en_tfidf.mm.bz2') # use this if you compressed the TFIDF output (recommended)\n",
    "print(mm)"
   ]
  },
  {
   "cell_type": "code",
   "execution_count": 0,
   "metadata": {
    "colab": {},
    "colab_type": "code",
    "id": "dqdpfeuiWFCA"
   },
   "outputs": [],
   "source": [
    "# extract 20 LDA topics, using 1 pass and updating once every 1 chunk (10,000 documents)\n",
    "lda = gensim.models.ldamodel.LdaModel(corpus=mm, id2word=id2word, num_topics=20, update_every=1, passes=1)\n",
    "lda.print_topics(20)"
   ]
  },
  {
   "cell_type": "code",
   "execution_count": 0,
   "metadata": {
    "colab": {},
    "colab_type": "code",
    "id": "__o6rspIWQze"
   },
   "outputs": [],
   "source": [
    "#Random wiki pages text files converted into corpus format\n",
    "\n",
    "with open('doc1.txt', 'r') as file:\n",
    "    doc1 = file.read().replace('\\n', '')\n",
    "input_corpus_1 = [word for word in doc1.lower().split()]\n",
    "        \n",
    "with open('doc2.txt', 'r') as file:\n",
    "     doc2 = file.read().replace('\\n', '')\n",
    "input_corpus_2 = [word for word in doc1.lower().split()]\n",
    "\n",
    "with open('doc3.txt', 'r') as file:\n",
    "     doc3 = file.read().replace('\\n', '')\n",
    "input_corpus_3 = [word for word in doc1.lower().split()]"
   ]
  },
  {
   "cell_type": "code",
   "execution_count": 0,
   "metadata": {
    "colab": {},
    "colab_type": "code",
    "id": "bxfaJqMuWWr6"
   },
   "outputs": [],
   "source": [
    "#created lda model ran on each document to check it's topic probability\n",
    "#get topic probability distribution for a document\n",
    "doc = id2word.doc2bow(input_corpus_1)\n",
    "vector = lda[doc]  \n",
    "\n",
    "print(vector)\n",
    "\n",
    "doc = id2word.doc2bow(input_corpus_2)\n",
    "vector = lda[doc]  \n",
    "print(vector)\n",
    "\n",
    "doc = id2word.doc2bow(input_corpus_3)\n",
    "vector = lda[doc]  \n",
    "print(vector)"
   ]
  }
 ],
 "metadata": {
  "colab": {
   "collapsed_sections": [],
   "name": "Bhakti_Dalvi_HW6_Gensim.ipynb",
   "provenance": []
  },
  "kernelspec": {
   "display_name": "Python 3",
   "language": "python",
   "name": "python3"
  },
  "language_info": {
   "codemirror_mode": {
    "name": "ipython",
    "version": 3
   },
   "file_extension": ".py",
   "mimetype": "text/x-python",
   "name": "python",
   "nbconvert_exporter": "python",
   "pygments_lexer": "ipython3",
   "version": "3.7.3"
  }
 },
 "nbformat": 4,
 "nbformat_minor": 1
}

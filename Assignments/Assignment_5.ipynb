{
 "cells": [
  {
   "cell_type": "code",
   "execution_count": 106,
   "metadata": {},
   "outputs": [],
   "source": [
    "import requests\n",
    "import spacy\n",
    "from bs4 import BeautifulSoup\n",
    "from collections import Counter"
   ]
  },
  {
   "cell_type": "code",
   "execution_count": 107,
   "metadata": {},
   "outputs": [],
   "source": [
    "book_url = \"https://www.gutenberg.org/files/74/74-h/74-h.htm\"\n",
    "nlp = spacy.load(\"en_core_web_lg\")\n",
    "r = requests.get(book_url, stream = True) \n",
    "soup = BeautifulSoup(r.content, 'lxml')\n",
    "for script in soup([\"pre\",\"script\", \"style\"]):\n",
    "    script.extract() \n",
    "url_content = soup.get_text()\n",
    "\n",
    "sawyer_file = open(\"tomsawyer.txt\", \"w\")\n",
    "sawyer_file.write(str(url_content))\n",
    "sawyer_file.close()\n",
    "\n",
    "sawyer_doc = nlp(open(\"tomsawyer.txt\").read())      "
   ]
  },
  {
   "cell_type": "code",
   "execution_count": 108,
   "metadata": {},
   "outputs": [
    {
     "name": "stdout",
     "output_type": "stream",
     "text": [
      "Number of Tokens:  96520\n"
     ]
    }
   ],
   "source": [
    "token_list = []\n",
    "for token in sawyer_doc:\n",
    "    token_list.append(token.text)\n",
    "print(\"Number of Tokens: \", len(token_list))\n"
   ]
  },
  {
   "cell_type": "code",
   "execution_count": 109,
   "metadata": {},
   "outputs": [
    {
     "name": "stdout",
     "output_type": "stream",
     "text": [
      "Number of Verbs: 12285\n"
     ]
    }
   ],
   "source": [
    "verbs_list = []\n",
    "for verb in sawyer_doc:\n",
    "    if verb.pos_ == \"VERB\":\n",
    "        verbs_list.append(verb.text)\n",
    "print(\"Number of Verbs:\", len(verbs_list))"
   ]
  },
  {
   "cell_type": "code",
   "execution_count": 110,
   "metadata": {},
   "outputs": [
    {
     "name": "stdout",
     "output_type": "stream",
     "text": [
      "Most Frequent named Entity: Tom\n"
     ]
    }
   ],
   "source": [
    "entity_list = []\n",
    "for entity in sawyer_doc.ents:\n",
    "    entity_list.append(entity.text)\n",
    "word_freq = Counter(entity_list)\n",
    "common_words = word_freq.most_common(1)\n",
    "print(\"Most Frequent named Entity:\",common_words[0][0])"
   ]
  },
  {
   "cell_type": "code",
   "execution_count": 111,
   "metadata": {},
   "outputs": [
    {
     "name": "stdout",
     "output_type": "stream",
     "text": [
      "Number of Sentences: 6581\n"
     ]
    }
   ],
   "source": [
    "all_sents = []\n",
    "for s in sawyer_doc.sents:\n",
    "    all_sents.append(s.text)\n",
    "print(\"Number of Sentences:\",len(all_sents))"
   ]
  },
  {
   "cell_type": "code",
   "execution_count": 112,
   "metadata": {},
   "outputs": [
    {
     "name": "stdout",
     "output_type": "stream",
     "text": [
      "Sentence 1: “Doodle-bug, doodle-bug, tell me what I want to know!\n",
      "\n",
      "Sentence 2: Doodle-bug,\n",
      "      doodle-bug, tell me what I want to know!”\n",
      "    \n",
      "\n",
      "      \n"
     ]
    }
   ],
   "source": [
    "sents_lng = [snt for snt in list(sawyer_doc.sents) if len(snt) >= 10]\n",
    "high_sim = 0\n",
    "for i in range(len(sents_lng)-1):\n",
    "    \n",
    "    for j in range(i+1,len(sents_lng)-1):\n",
    "        \n",
    "        s1 = sents_lng[i]\n",
    "        s2 = sents_lng[j]\n",
    "        sim = s1.similarity(s2)\n",
    "        if sim > high_sim and s1.text != s2.text and sim < 1:\n",
    "            s1_high =i\n",
    "            s2_high = j\n",
    "            high_sim = sim\n",
    "\n",
    "print('Sentence 1: {}'.format(sents_lng[s1_high].text))\n",
    "print('\\nSentence 2: {}'.format(sents_lng[s2_high].text))"
   ]
  },
  {
   "cell_type": "code",
   "execution_count": 114,
   "metadata": {},
   "outputs": [
    {
     "name": "stdout",
     "output_type": "stream",
     "text": [
      "First word in 15th Sentence: School\n",
      "Vector Representation of First Word: [ 1.0231e-01  2.7740e-01 -5.7097e-02 -1.6604e-01  2.9103e-01 -1.5729e-01\n",
      " -3.3118e-01  1.1592e-01  2.2646e-01  3.3402e+00 -7.3287e-01  2.6872e-01\n",
      "  1.3334e-01 -3.8197e-02 -8.1015e-02  4.7644e-01  4.1689e-01  1.0219e+00\n",
      " -6.6328e-02  1.4834e-01  3.0457e-01 -7.6863e-01  1.5904e-01  4.7977e-02\n",
      "  2.0988e-01  2.7269e-01 -6.2956e-01 -7.9367e-02 -2.3195e-02  1.9068e-01\n",
      "  1.5862e-01 -5.7242e-02  1.9668e-01 -4.7071e-01  4.8903e-01 -2.1129e-01\n",
      " -1.1273e-01  4.7352e-01  2.1075e-01  3.3359e-01  1.0460e-01  4.7514e-02\n",
      "  1.1426e-01  3.0760e-01  3.3857e-01  2.0811e-01  3.0078e-02  1.3355e-01\n",
      "  2.1650e-01 -6.3801e-01 -3.9047e-01 -2.0004e-01  4.2835e-01  1.9531e-01\n",
      " -1.6132e-01 -1.0286e-01  1.8095e-01  3.2884e-01  4.9451e-02 -1.2373e-01\n",
      " -3.2832e-01 -3.3550e-01  4.1615e-01 -2.8990e-01  9.4909e-02  1.5505e-02\n",
      " -4.9192e-01  7.0344e-01  3.3711e-01  4.2636e-01 -3.1334e-01 -6.2247e-01\n",
      "  1.7790e-01 -3.2016e-01 -1.7283e-02  3.1126e-01  1.3653e-01  7.7221e-01\n",
      " -1.2526e-01  6.9577e-01  2.8953e-01  4.3627e-01  1.5844e-01  4.1637e-01\n",
      "  6.5641e-02  5.1587e-01 -1.2926e-01  3.4383e-01 -1.6889e-01 -7.7537e-02\n",
      " -4.2770e-01  7.6671e-02  4.1407e-02 -7.3552e-01 -1.1563e-01 -2.6909e-01\n",
      "  6.1159e-01  1.2828e-01  2.3932e-01  6.4508e-02  3.5018e-01  5.7577e-02\n",
      "  1.0050e-02 -2.3475e-01 -3.2683e-01 -6.0586e-01 -4.3096e-02  1.7794e-01\n",
      " -1.3609e-01 -4.6597e-01 -2.9191e-01 -1.7809e-02 -4.4452e-01 -2.3981e-01\n",
      " -1.0605e-01 -1.2411e-01  1.8916e-01  8.1040e-02 -5.1542e-01 -3.0470e-03\n",
      "  4.5744e-01  2.9860e-01  3.2056e-01 -4.0322e-02  2.5691e-01  3.3885e-01\n",
      "  3.8223e-01  6.9732e-02  3.9397e-01  4.8331e-01  3.2691e-01 -1.6012e-01\n",
      "  2.1420e-03  2.7423e-02  4.7367e-01 -1.0141e-01 -4.5262e-02  1.4045e-01\n",
      "  1.7598e-01  2.2751e-01 -1.1368e+00 -2.1197e-01 -1.0442e-01 -5.0004e-02\n",
      " -2.8276e-02  3.2507e-01  1.3847e-02 -2.2970e-01 -4.6469e-01 -1.9540e-01\n",
      " -2.5135e-01  2.4029e-01 -4.3111e-01  3.0603e-01  3.0693e-01 -2.6108e-01\n",
      " -3.1239e-01 -4.0456e-01  5.2324e-01 -1.1471e+00 -2.7716e-01 -3.8038e-02\n",
      "  3.0041e-01 -4.5567e-01 -4.8686e-01  5.4001e-02 -3.9325e-01 -2.2535e-01\n",
      "  3.5284e-01  2.8994e-01  8.0478e-02 -5.4502e-02  2.2245e-01 -1.9612e-01\n",
      " -5.1898e-02 -1.3115e-01 -2.6102e-01  4.3384e-01  4.4173e-02  1.8264e-02\n",
      "  1.8981e-02  1.9824e-01 -3.3316e-01  3.4529e-01  9.9016e-02  3.1422e-03\n",
      " -4.9834e-01  4.2895e-01  3.2991e-01 -2.1199e-01 -1.3176e-01 -2.1659e-01\n",
      " -4.8054e-01 -9.1190e-02 -1.6022e-01  2.6258e-01  2.1203e-01 -4.3261e-01\n",
      "  4.6557e-01  2.1055e-02  6.9764e-01  1.3870e-01 -3.2135e-01 -9.5979e-02\n",
      "  4.3524e-02 -9.7266e-03 -1.3662e-01 -1.7486e-01  5.5267e-01  2.7717e-01\n",
      " -6.7105e-01  9.6510e-01 -4.1098e-01 -3.7228e-01 -3.0207e-01 -5.8612e-02\n",
      " -6.9067e-02  7.4147e-02 -3.0229e-01  4.3310e-01 -4.5071e-01 -4.7696e-01\n",
      " -5.7949e-01 -1.6059e-01 -2.1879e-01  6.1176e-01 -3.0071e-01  2.3126e-01\n",
      "  1.2959e-01 -1.2779e-01 -3.5382e-01 -2.2504e-01  1.9988e-01 -4.7344e-02\n",
      " -9.1219e-02  1.5223e-02  4.0316e-01  2.0907e-01 -1.6731e-01  2.3421e-01\n",
      " -6.5015e-01 -2.4606e-01  2.9379e-01 -1.5006e-01 -1.2015e-01 -6.1663e-02\n",
      " -5.5886e-01  4.3561e-02  2.0707e-01 -9.9082e-02 -2.6719e-01  3.8133e-01\n",
      " -2.8862e-01 -1.8744e-01  5.4136e-01  2.2808e-02 -2.2616e-01 -5.8038e-01\n",
      " -2.1335e-01 -3.3459e-02  2.8692e-01  4.4342e-01  1.1251e-01  1.5466e-02\n",
      " -4.2011e-02 -3.4885e-01 -9.5505e-01 -2.2811e-01 -2.7811e-01 -4.4938e-02\n",
      " -5.6437e-01  3.2925e-01 -1.9116e-01 -3.1198e-01 -1.4740e-01 -2.9110e-01\n",
      "  1.7369e-01 -6.4199e-02 -2.3355e-01 -2.7700e-01 -5.2407e-01 -1.8427e-01\n",
      " -7.0804e-01  2.8013e-01 -4.1304e-02 -1.4412e-01  4.3143e-01 -2.2724e-01\n",
      " -5.2981e-01 -4.4312e-01  5.5320e-01 -4.2218e-01  4.7357e-01  4.1354e-01\n",
      "  1.8404e-01  5.7756e-02 -1.7041e-01 -3.1888e-01  2.3660e-01 -1.5062e-01]\n"
     ]
    }
   ],
   "source": [
    "v = []\n",
    "v = all_sents[14]\n",
    "print(\"First word in 15th Sentence:\",v.split()[0])\n",
    "print(\"Vector Representation of First Word:\",nlp(str(v.split()[0])).vector)"
   ]
  },
  {
   "cell_type": "code",
   "execution_count": null,
   "metadata": {},
   "outputs": [],
   "source": []
  },
  {
   "cell_type": "code",
   "execution_count": null,
   "metadata": {},
   "outputs": [],
   "source": []
  }
 ],
 "metadata": {
  "kernelspec": {
   "display_name": "Python 3",
   "language": "python",
   "name": "python3"
  },
  "language_info": {
   "codemirror_mode": {
    "name": "ipython",
    "version": 3
   },
   "file_extension": ".py",
   "mimetype": "text/x-python",
   "name": "python",
   "nbconvert_exporter": "python",
   "pygments_lexer": "ipython3",
   "version": "3.7.3"
  }
 },
 "nbformat": 4,
 "nbformat_minor": 2
}
